{
  "nbformat": 4,
  "nbformat_minor": 0,
  "metadata": {
    "colab": {
      "name": "J/AJ/157/52_getRVs.ipynb",
      "provenance": [],
      "collapsed_sections": []
    },
    "kernelspec": {
      "name": "python3",
      "display_name": "Python 3"
    },
    "language_info": {
      "name": "python"
    }
  },
  "cells": [
    {
      "cell_type": "code",
      "execution_count": 2,
      "metadata": {
        "id": "u7cCtlECK872"
      },
      "outputs": [],
      "source": [
        "import pandas as pd\n",
        "import numpy as np"
      ]
    },
    {
      "cell_type": "code",
      "source": [
        "data = pd.read_csv('asu.tsv', delimiter = ';')\n",
        "data.head()"
      ],
      "metadata": {
        "colab": {
          "base_uri": "https://localhost:8080/",
          "height": 206
        },
        "id": "rVn1MjqQLF0c",
        "outputId": "1ba18799-319e-41bb-c5cf-cf12f7ce5eee"
      },
      "execution_count": 3,
      "outputs": [
        {
          "output_type": "execute_result",
          "data": {
            "text/plain": [
              "            ID           BJD       RV  e_RV\n",
              "0  Corot-7      2.454528e+06  31181.8   1.5\n",
              "1  Corot-7      2.454531e+06  31173.2   1.5\n",
              "2  Corot-7      2.454551e+06  31197.2   2.1\n",
              "3  Corot-7      2.454776e+06  31188.1   2.2\n",
              "4  Corot-7      2.454777e+06  31184.8   2.8"
            ],
            "text/html": [
              "\n",
              "  <div id=\"df-5e74153d-31f9-4820-9e29-bba0ecf1eb66\">\n",
              "    <div class=\"colab-df-container\">\n",
              "      <div>\n",
              "<style scoped>\n",
              "    .dataframe tbody tr th:only-of-type {\n",
              "        vertical-align: middle;\n",
              "    }\n",
              "\n",
              "    .dataframe tbody tr th {\n",
              "        vertical-align: top;\n",
              "    }\n",
              "\n",
              "    .dataframe thead th {\n",
              "        text-align: right;\n",
              "    }\n",
              "</style>\n",
              "<table border=\"1\" class=\"dataframe\">\n",
              "  <thead>\n",
              "    <tr style=\"text-align: right;\">\n",
              "      <th></th>\n",
              "      <th>ID</th>\n",
              "      <th>BJD</th>\n",
              "      <th>RV</th>\n",
              "      <th>e_RV</th>\n",
              "    </tr>\n",
              "  </thead>\n",
              "  <tbody>\n",
              "    <tr>\n",
              "      <th>0</th>\n",
              "      <td>Corot-7</td>\n",
              "      <td>2.454528e+06</td>\n",
              "      <td>31181.8</td>\n",
              "      <td>1.5</td>\n",
              "    </tr>\n",
              "    <tr>\n",
              "      <th>1</th>\n",
              "      <td>Corot-7</td>\n",
              "      <td>2.454531e+06</td>\n",
              "      <td>31173.2</td>\n",
              "      <td>1.5</td>\n",
              "    </tr>\n",
              "    <tr>\n",
              "      <th>2</th>\n",
              "      <td>Corot-7</td>\n",
              "      <td>2.454551e+06</td>\n",
              "      <td>31197.2</td>\n",
              "      <td>2.1</td>\n",
              "    </tr>\n",
              "    <tr>\n",
              "      <th>3</th>\n",
              "      <td>Corot-7</td>\n",
              "      <td>2.454776e+06</td>\n",
              "      <td>31188.1</td>\n",
              "      <td>2.2</td>\n",
              "    </tr>\n",
              "    <tr>\n",
              "      <th>4</th>\n",
              "      <td>Corot-7</td>\n",
              "      <td>2.454777e+06</td>\n",
              "      <td>31184.8</td>\n",
              "      <td>2.8</td>\n",
              "    </tr>\n",
              "  </tbody>\n",
              "</table>\n",
              "</div>\n",
              "      <button class=\"colab-df-convert\" onclick=\"convertToInteractive('df-5e74153d-31f9-4820-9e29-bba0ecf1eb66')\"\n",
              "              title=\"Convert this dataframe to an interactive table.\"\n",
              "              style=\"display:none;\">\n",
              "        \n",
              "  <svg xmlns=\"http://www.w3.org/2000/svg\" height=\"24px\"viewBox=\"0 0 24 24\"\n",
              "       width=\"24px\">\n",
              "    <path d=\"M0 0h24v24H0V0z\" fill=\"none\"/>\n",
              "    <path d=\"M18.56 5.44l.94 2.06.94-2.06 2.06-.94-2.06-.94-.94-2.06-.94 2.06-2.06.94zm-11 1L8.5 8.5l.94-2.06 2.06-.94-2.06-.94L8.5 2.5l-.94 2.06-2.06.94zm10 10l.94 2.06.94-2.06 2.06-.94-2.06-.94-.94-2.06-.94 2.06-2.06.94z\"/><path d=\"M17.41 7.96l-1.37-1.37c-.4-.4-.92-.59-1.43-.59-.52 0-1.04.2-1.43.59L10.3 9.45l-7.72 7.72c-.78.78-.78 2.05 0 2.83L4 21.41c.39.39.9.59 1.41.59.51 0 1.02-.2 1.41-.59l7.78-7.78 2.81-2.81c.8-.78.8-2.07 0-2.86zM5.41 20L4 18.59l7.72-7.72 1.47 1.35L5.41 20z\"/>\n",
              "  </svg>\n",
              "      </button>\n",
              "      \n",
              "  <style>\n",
              "    .colab-df-container {\n",
              "      display:flex;\n",
              "      flex-wrap:wrap;\n",
              "      gap: 12px;\n",
              "    }\n",
              "\n",
              "    .colab-df-convert {\n",
              "      background-color: #E8F0FE;\n",
              "      border: none;\n",
              "      border-radius: 50%;\n",
              "      cursor: pointer;\n",
              "      display: none;\n",
              "      fill: #1967D2;\n",
              "      height: 32px;\n",
              "      padding: 0 0 0 0;\n",
              "      width: 32px;\n",
              "    }\n",
              "\n",
              "    .colab-df-convert:hover {\n",
              "      background-color: #E2EBFA;\n",
              "      box-shadow: 0px 1px 2px rgba(60, 64, 67, 0.3), 0px 1px 3px 1px rgba(60, 64, 67, 0.15);\n",
              "      fill: #174EA6;\n",
              "    }\n",
              "\n",
              "    [theme=dark] .colab-df-convert {\n",
              "      background-color: #3B4455;\n",
              "      fill: #D2E3FC;\n",
              "    }\n",
              "\n",
              "    [theme=dark] .colab-df-convert:hover {\n",
              "      background-color: #434B5C;\n",
              "      box-shadow: 0px 1px 3px 1px rgba(0, 0, 0, 0.15);\n",
              "      filter: drop-shadow(0px 1px 2px rgba(0, 0, 0, 0.3));\n",
              "      fill: #FFFFFF;\n",
              "    }\n",
              "  </style>\n",
              "\n",
              "      <script>\n",
              "        const buttonEl =\n",
              "          document.querySelector('#df-5e74153d-31f9-4820-9e29-bba0ecf1eb66 button.colab-df-convert');\n",
              "        buttonEl.style.display =\n",
              "          google.colab.kernel.accessAllowed ? 'block' : 'none';\n",
              "\n",
              "        async function convertToInteractive(key) {\n",
              "          const element = document.querySelector('#df-5e74153d-31f9-4820-9e29-bba0ecf1eb66');\n",
              "          const dataTable =\n",
              "            await google.colab.kernel.invokeFunction('convertToInteractive',\n",
              "                                                     [key], {});\n",
              "          if (!dataTable) return;\n",
              "\n",
              "          const docLinkHtml = 'Like what you see? Visit the ' +\n",
              "            '<a target=\"_blank\" href=https://colab.research.google.com/notebooks/data_table.ipynb>data table notebook</a>'\n",
              "            + ' to learn more about interactive tables.';\n",
              "          element.innerHTML = '';\n",
              "          dataTable['output_type'] = 'display_data';\n",
              "          await google.colab.output.renderOutput(dataTable, element);\n",
              "          const docLink = document.createElement('div');\n",
              "          docLink.innerHTML = docLinkHtml;\n",
              "          element.appendChild(docLink);\n",
              "        }\n",
              "      </script>\n",
              "    </div>\n",
              "  </div>\n",
              "  "
            ]
          },
          "metadata": {},
          "execution_count": 3
        }
      ]
    },
    {
      "cell_type": "code",
      "source": [
        "id = np.unique(data.ID)\n",
        "id"
      ],
      "metadata": {
        "colab": {
          "base_uri": "https://localhost:8080/"
        },
        "id": "9KQzdUOULckG",
        "outputId": "d7ab9471-ea52-474f-98a9-c11b4d20ba80"
      },
      "execution_count": 4,
      "outputs": [
        {
          "output_type": "execute_result",
          "data": {
            "text/plain": [
              "array(['55 Cnc     ', '61 Vir     ', 'Corot-24   ', 'Corot-7    ',\n",
              "       'GJ 15A     ', 'GJ 163     ', 'GJ 176     ', 'GJ 273     ',\n",
              "       'GJ 3138    ', 'GJ 3293    ', 'GJ 3323    ', 'GJ 3341    ',\n",
              "       'GJ 3634    ', 'GJ 3998    ', 'GJ 433     ', 'GJ 536     ',\n",
              "       'GJ 581     ', 'GJ 667 C   ', 'GJ 676     ', 'GJ 832     ',\n",
              "       'GJ 876     ', 'HD 1461    ', 'HD 156668  ', 'HD 175607  ',\n",
              "       'HD 181433  ', 'HD 20794   ', 'HD 215497  ', 'HD 219134  ',\n",
              "       'HD 3167    ', 'HD 40307   ', 'HD 7924    ', 'HD 85512   ',\n",
              "       'K2-3       ', 'K2-32      ', 'Kepler-10  ', 'Kepler-100 ',\n",
              "       'Kepler-102 ', 'Kepler-103 ', 'Kepler-106 ', 'Kepler-109 ',\n",
              "       'Kepler-113 ', 'Kepler-131 ', 'Kepler-20  ', 'Kepler-21  ',\n",
              "       'Kepler-22  ', 'Kepler-25  ', 'Kepler-37  ', 'Kepler-406 ',\n",
              "       'Kepler-407 ', 'Kepler-409 ', 'Kepler-454 ', 'Kepler-48  ',\n",
              "       'Kepler-62  ', 'Kepler-68  ', 'Kepler-93  ', 'Kepler-94  ',\n",
              "       'Kepler-95  ', 'Kepler-96  ', 'Kepler-97  ', 'Kepler-98  ',\n",
              "       'Kepler-99  ', 'LHS 1140   ', 'Proxima Cen', 'WASP-47    ',\n",
              "       'Wolf 1061  '], dtype=object)"
            ]
          },
          "metadata": {},
          "execution_count": 4
        }
      ]
    },
    {
      "cell_type": "code",
      "source": [
        "for k in id:\n",
        "  k_ = k.strip()\n",
        "  BJD = data[data.ID == k].BJD\n",
        "  RV = data[data.ID == k].RV\n",
        "  ERV = data[data.ID == k].e_RV\n",
        "  \n",
        "  np.savetxt(f'{k_}_RVdata.csv', \n",
        "             np.c_[BJD,RV,ERV], \n",
        "             header = 'BJD,RV,ERV', \n",
        "             fmt = '%s',\n",
        "             delimiter = ',',\n",
        "             comments = '')"
      ],
      "metadata": {
        "id": "rDOY7wMjLgIX"
      },
      "execution_count": 5,
      "outputs": []
    }
  ]
}